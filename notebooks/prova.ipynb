{
 "cells": [
  {
   "cell_type": "code",
   "execution_count": null,
   "metadata": {
    "vscode": {
     "languageId": "plaintext"
    }
   },
   "outputs": [],
   "source": [
    "import pandas as pd\n",
    "\n",
    "file_path = \"E:\\\\Download-E\\\\Progetto-Uni\\\\Progetto-SA-YT\\\\src\\\\YoutubeCommentsDataSet.csv\"\n",
    "YT = pd.read_csv(file_path, encoding='utf-8')\n",
    "\n",
    "print(YT.columns)  # Stampa tutte le colonne disponibili\n"
   ]
  }
 ],
 "metadata": {
  "language_info": {
   "name": "python"
  }
 },
 "nbformat": 4,
 "nbformat_minor": 2
}
