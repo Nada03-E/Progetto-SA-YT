{
 "cells": [
  {
   "cell_type": "code",
   "execution_count": null,
   "metadata": {},
   "outputs": [
    {
     "name": "stdout",
     "output_type": "stream",
     "text": [
      "File esiste? True\n",
      "Index(['Comment', 'Sentiment'], dtype='object')\n",
      "                                             Comment Sentiment\n",
      "0  lets not forget that apple pay in 2014 require...   neutral\n",
      "1  here in nz 50 of retailers don’t even have con...  negative\n",
      "2  i will forever acknowledge this channel with t...  positive\n",
      "3  whenever i go to a place that doesn’t take app...  negative\n",
      "4  apple pay is so convenient secure and easy to ...  positive\n",
      "<class 'pandas.core.frame.DataFrame'>\n",
      "Colonne con valori mancanti prima dell'imputation:\n",
      "Comment      44\n",
      "Sentiment     0\n",
      "dtype: int64\n",
      "Sentiment\n",
      "positive    11432\n",
      "neutral      4638\n",
      "negative     2338\n",
      "Name: count, dtype: int64\n"
     ]
    }
   ],
   "source": [
    "import pandas as pd\n",
    "\n",
    "file_path = \"E:\\\\Download-E\\\\Progetto-Uni\\\\Progetto-SA-YT\\\\data\\\\raw\\\\YoutubeCommentsDataSet.csv\"\n",
    "import os\n",
    "print(\"File esiste?\", os.path.exists(file_path))\n",
    "\n",
    "YT = pd.read_csv(file_path, encoding='utf-8')\n",
    "\n",
    "print(YT.columns)  # Stampa tutte le colonne disponibili\n",
    "print(YT.head())\n",
    "print(type(YT))  # Assicurati che df sia effettivamente un DataFrame\n",
    "len(YT)\n",
    "print(\"Colonne con valori mancanti prima dell'imputation:\")\n",
    "print(YT.isnull().sum())\n",
    "print(YT['Sentiment'].value_counts())\n",
    "print(set(y_train))\n"
   ]
  },
  {
   "cell_type": "code",
   "execution_count": null,
   "metadata": {},
   "outputs": [],
   "source": []
  }
 ],
 "metadata": {
  "kernelspec": {
   "display_name": "Python 3",
   "language": "python",
   "name": "python3"
  },
  "language_info": {
   "codemirror_mode": {
    "name": "ipython",
    "version": 3
   },
   "file_extension": ".py",
   "mimetype": "text/x-python",
   "name": "python",
   "nbconvert_exporter": "python",
   "pygments_lexer": "ipython3",
   "version": "3.13.2"
  }
 },
 "nbformat": 4,
 "nbformat_minor": 2
}
