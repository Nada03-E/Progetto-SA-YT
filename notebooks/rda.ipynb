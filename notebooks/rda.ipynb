{
 "cells": [
  {
   "cell_type": "code",
   "execution_count": 10,
   "metadata": {},
   "outputs": [
    {
     "name": "stdout",
     "output_type": "stream",
     "text": [
      "File esiste? True\n",
      "Index(['Comment', 'Sentiment'], dtype='object')\n",
      "                                             Comment Sentiment\n",
      "0  lets not forget that apple pay in 2014 require...   neutral\n",
      "1  here in nz 50 of retailers don’t even have con...  negative\n",
      "2  i will forever acknowledge this channel with t...  positive\n",
      "3  whenever i go to a place that doesn’t take app...  negative\n",
      "4  apple pay is so convenient secure and easy to ...  positive\n",
      "<class 'pandas.core.frame.DataFrame'>\n"
     ]
    }
   ],
   "source": [
    "import pandas as pd\n",
    "\n",
    "file_path = \"E:\\\\Download-E\\\\Progetto-Uni\\\\Progetto-SA-YT\\\\data\\\\raw\\\\YoutubeCommentsDataSet.csv\"\n",
    "import os\n",
    "print(\"File esiste?\", os.path.exists(file_path))\n",
    "\n",
    "YT = pd.read_csv(file_path, encoding='utf-8')\n",
    "\n",
    "print(YT.columns)  # Stampa tutte le colonne disponibili\n",
    "print(YT.head())\n",
    "print(type(YT))  # Assicurati che df sia effettivamente un DataFrame\n"
   ]
  },
  {
   "cell_type": "code",
   "execution_count": 11,
   "metadata": {},
   "outputs": [
    {
     "ename": "NameError",
     "evalue": "name 'df' is not defined",
     "output_type": "error",
     "traceback": [
      "\u001b[31m---------------------------------------------------------------------------\u001b[39m",
      "\u001b[31mNameError\u001b[39m                                 Traceback (most recent call last)",
      "\u001b[36mCell\u001b[39m\u001b[36m \u001b[39m\u001b[32mIn[11]\u001b[39m\u001b[32m, line 1\u001b[39m\n\u001b[32m----> \u001b[39m\u001b[32m1\u001b[39m \u001b[38;5;28mlen\u001b[39m(\u001b[43mdf\u001b[49m)\n",
      "\u001b[31mNameError\u001b[39m: name 'df' is not defined"
     ]
    }
   ],
   "source": [
    "len(df)"
   ]
  }
 ],
 "metadata": {
  "kernelspec": {
   "display_name": "Python 3",
   "language": "python",
   "name": "python3"
  },
  "language_info": {
   "codemirror_mode": {
    "name": "ipython",
    "version": 3
   },
   "file_extension": ".py",
   "mimetype": "text/x-python",
   "name": "python",
   "nbconvert_exporter": "python",
   "pygments_lexer": "ipython3",
   "version": "3.13.2"
  }
 },
 "nbformat": 4,
 "nbformat_minor": 2
}
